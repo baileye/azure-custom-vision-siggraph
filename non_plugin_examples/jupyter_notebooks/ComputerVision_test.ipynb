{
 "cells": [
  {
   "cell_type": "code",
   "execution_count": 15,
   "metadata": {
    "collapsed": false
   },
   "outputs": [
    {
     "name": "stdout",
     "output_type": "stream",
     "text": [
      "{'requestId': '0edc704e-c264-4d89-ac8f-380d531b37f7', 'color': {'dominantColorForeground': 'White', 'dominantColorBackground': 'White', 'isBwImg': False, 'dominantColors': ['White', 'Brown', 'Grey'], 'accentColor': '402012'}, 'metadata': {'format': 'Jpeg', 'height': 217, 'width': 287}, 'categories': [{'score': 0.98828125, 'name': 'animal_cat'}], 'description': {'tags': ['cat', 'indoor', 'mammal', 'animal', 'sitting', 'white', 'table', 'wooden', 'laying', 'wood', 'looking', 'hard', 'front', 'bed', 'computer', 'desk', 'grey', 'laptop', 'room', 'standing'], 'captions': [{'text': 'a cat sitting on top of a wooden table', 'confidence': 0.884628649949036}]}}\n",
      "['cat', 'indoor', 'mammal', 'animal', 'sitting', 'white', 'table', 'wooden', 'laying', 'wood', 'looking', 'hard', 'front', 'bed', 'computer', 'desk', 'grey', 'laptop', 'room', 'standing']\n",
      "['cat', 'indoor', 'mammal', 'animal', 'sitting']\n",
      "<class 'list'>\n"
     ]
    }
   ],
   "source": [
    "import requests\n",
    "\n",
    "subscription_key = \"<SUBSCRIPTION KEY>\"\n",
    "assert subscription_key\n",
    "\n",
    "vision_base_url = \"https://<DATA CENTER REGION>.api.cognitive.microsoft.com/vision/v2.0/\"\n",
    "\n",
    "analyze_url = vision_base_url + \"analyze\"\n",
    "headers    = {'Ocp-Apim-Subscription-Key': subscription_key,\n",
    "                'Content-Type': 'application/octet-stream'}\n",
    "params     = {'visualFeatures': 'Categories,Description,Color'}\n",
    "\n",
    "with open(\"<FILE NAME>.jpg\", mode=\"rb\") as image_data:\n",
    "    response = requests.post(\n",
    "    analyze_url, headers=headers, params=params, data=image_data)\n",
    "        \n",
    "    response.raise_for_status()\n",
    "    analysis = response.json()\n",
    "    print(analysis)\n",
    "        \n",
    "    image_tags = analysis[\"description\"][\"tags\"]\n",
    "    print(image_tags)\n",
    "    \n",
    "    \n",
    "    tags = list()\n",
    "    count = 0\n",
    "    for prediction in image_tags:\n",
    "        if count < 5:\n",
    "            tags.append(prediction)\n",
    "            count += 1\n",
    "\n",
    "    print(tags)\n",
    "    print(type(tags))\n",
    "        "
   ]
  }
 ],
 "metadata": {
  "kernelspec": {
   "display_name": "Python [Root]",
   "language": "python",
   "name": "Python [Root]"
  },
  "language_info": {
   "codemirror_mode": {
    "name": "ipython",
    "version": 3
   },
   "file_extension": ".py",
   "mimetype": "text/x-python",
   "name": "python",
   "nbconvert_exporter": "python",
   "pygments_lexer": "ipython3",
   "version": "3.5.2"
  }
 },
 "nbformat": 4,
 "nbformat_minor": 0
}
