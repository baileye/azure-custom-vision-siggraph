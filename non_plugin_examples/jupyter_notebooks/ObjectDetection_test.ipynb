{
 "cells": [
  {
   "cell_type": "code",
   "execution_count": 2,
   "metadata": {
    "collapsed": false
   },
   "outputs": [],
   "source": [
    "# ON YOUR MACHINE CMD: pip install azure-cognitiveservices-vision-customvision\n",
    "\n",
    "from azure.cognitiveservices.vision.customvision.prediction import prediction_endpoint\n",
    "from azure.cognitiveservices.vision.customvision.prediction.prediction_endpoint import models"
   ]
  },
  {
   "cell_type": "code",
   "execution_count": 21,
   "metadata": {
    "collapsed": false
   },
   "outputs": [
    {
     "name": "stdout",
     "output_type": "stream",
     "text": [
      "['nothing found']\n",
      "<class 'list'>\n"
     ]
    }
   ],
   "source": [
    "project_id = \"<PROJECT ID>\"\n",
    "prediction_key = \"<PREDICTION KEY>\"\n",
    "iteration_id = \"<ITERATION ID>\"\n",
    "\n",
    "predictor = prediction_endpoint.PredictionEndpoint(prediction_key)\n",
    "\n",
    "# Open the sample image and get back the prediction results.\n",
    "with open(\"<FILE NAME>.jpg\", mode=\"rb\") as test_data:\n",
    "    results = predictor.predict_image(project_id, test_data, iteration_id)\n",
    "    tags = list()\n",
    "    \n",
    "    for prediction in results.predictions:\n",
    "        if prediction.probability > 0.2:\n",
    "            tags.append(prediction.tag_name)\n",
    "            \n",
    "    if len(tags) == 0:\n",
    "        tags.append(\"nothing found\")\n",
    "\n",
    "print(tags)\n",
    "print(type(tags))"
   ]
  }
 ],
 "metadata": {
  "kernelspec": {
   "display_name": "Python [Root]",
   "language": "python",
   "name": "Python [Root]"
  },
  "language_info": {
   "codemirror_mode": {
    "name": "ipython",
    "version": 3
   },
   "file_extension": ".py",
   "mimetype": "text/x-python",
   "name": "python",
   "nbconvert_exporter": "python",
   "pygments_lexer": "ipython3",
   "version": "3.5.2"
  }
 },
 "nbformat": 4,
 "nbformat_minor": 0
}
